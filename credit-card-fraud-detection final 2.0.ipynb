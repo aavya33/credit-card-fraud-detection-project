{
 "cells": [
  {
   "cell_type": "markdown",
   "metadata": {},
   "source": [
    "In the Application Data Set, we have attributes such as IncomeTotal,AMTAPPLICATION,AMT CREDIT, and approximately 122 Columns. The interesting thing is that if you want to see patterns and variations, we find out the SK_ID_CURR of creditcard fraud detection not SK_ID_CURR creditcard fraud detection."
   ]
  },
  {
   "cell_type": "code",
   "execution_count": null,
   "metadata": {},
   "outputs": [],
   "source": []
  },
  {
   "cell_type": "markdown",
   "metadata": {},
   "source": [
    "**Importing the necessary libraries**"
   ]
  },
  {
   "cell_type": "code",
   "execution_count": null,
   "metadata": {
    "execution": {
     "iopub.execute_input": "2022-07-08T04:00:53.642861Z",
     "iopub.status.busy": "2022-07-08T04:00:53.642344Z",
     "iopub.status.idle": "2022-07-08T04:00:54.703874Z",
     "shell.execute_reply": "2022-07-08T04:00:54.702618Z",
     "shell.execute_reply.started": "2022-07-08T04:00:53.642767Z"
    }
   },
   "outputs": [],
   "source": [
    "# data analysis and wrangling\n",
    "import pandas as pd\n",
    "import numpy as np\n",
    "import random as rnd\n",
    "\n",
    "# visualization\n",
    "import seaborn as sns\n",
    "import matplotlib.pyplot as plt\n",
    "%matplotlib inline\n",
    "from sklearn.model_selection import train_test_split\n",
    "from sklearn.preprocessing import LabelEncoder\n",
    "#machine learning\n",
    "from sklearn.ensemble import RandomForestClassifier\n",
    "from sklearn.linear_model import LogisticRegression\n",
    "from sklearn.svm import SVC, LinearSVC"
   ]
  },
  {
   "cell_type": "markdown",
   "metadata": {},
   "source": [
    "**Load the DataSet**"
   ]
  },
  {
   "cell_type": "code",
   "execution_count": null,
   "metadata": {
    "execution": {
     "iopub.execute_input": "2022-07-08T04:00:54.7069Z",
     "iopub.status.busy": "2022-07-08T04:00:54.706509Z",
     "iopub.status.idle": "2022-07-08T04:00:59.998019Z",
     "shell.execute_reply": "2022-07-08T04:00:59.996895Z",
     "shell.execute_reply.started": "2022-07-08T04:00:54.706871Z"
    },
    "id": "BuObPpqT7t3C"
   },
   "outputs": [],
   "source": [
    "df=pd.read_csv('../input/credit-card/application_data.csv')"
   ]
  },
  {
   "cell_type": "markdown",
   "metadata": {},
   "source": [
    "**EDA**"
   ]
  },
  {
   "cell_type": "code",
   "execution_count": null,
   "metadata": {
    "execution": {
     "iopub.execute_input": "2022-07-08T04:00:59.999884Z",
     "iopub.status.busy": "2022-07-08T04:00:59.999228Z",
     "iopub.status.idle": "2022-07-08T04:01:00.044506Z",
     "shell.execute_reply": "2022-07-08T04:01:00.043243Z",
     "shell.execute_reply.started": "2022-07-08T04:00:59.999855Z"
    },
    "id": "6cViZDTmemb4",
    "outputId": "d9e219fe-48a3-4952-c704-d75247d5d267"
   },
   "outputs": [],
   "source": [
    "df.head()"
   ]
  },
  {
   "cell_type": "code",
   "execution_count": null,
   "metadata": {
    "execution": {
     "iopub.execute_input": "2022-07-08T04:01:00.047964Z",
     "iopub.status.busy": "2022-07-08T04:01:00.047597Z",
     "iopub.status.idle": "2022-07-08T04:01:00.055766Z",
     "shell.execute_reply": "2022-07-08T04:01:00.054172Z",
     "shell.execute_reply.started": "2022-07-08T04:01:00.047933Z"
    }
   },
   "outputs": [],
   "source": [
    "df.shape"
   ]
  },
  {
   "cell_type": "code",
   "execution_count": null,
   "metadata": {
    "execution": {
     "iopub.execute_input": "2022-07-08T04:01:00.058248Z",
     "iopub.status.busy": "2022-07-08T04:01:00.05778Z",
     "iopub.status.idle": "2022-07-08T04:01:00.070791Z",
     "shell.execute_reply": "2022-07-08T04:01:00.0691Z",
     "shell.execute_reply.started": "2022-07-08T04:01:00.05821Z"
    }
   },
   "outputs": [],
   "source": [
    "df.size"
   ]
  },
  {
   "cell_type": "code",
   "execution_count": null,
   "metadata": {
    "execution": {
     "iopub.execute_input": "2022-07-08T04:01:00.074645Z",
     "iopub.status.busy": "2022-07-08T04:01:00.074155Z",
     "iopub.status.idle": "2022-07-08T04:01:00.086154Z",
     "shell.execute_reply": "2022-07-08T04:01:00.084953Z",
     "shell.execute_reply.started": "2022-07-08T04:01:00.074571Z"
    }
   },
   "outputs": [],
   "source": [
    "df.dtypes"
   ]
  },
  {
   "cell_type": "code",
   "execution_count": null,
   "metadata": {
    "execution": {
     "iopub.execute_input": "2022-07-08T04:01:00.089498Z",
     "iopub.status.busy": "2022-07-08T04:01:00.088995Z",
     "iopub.status.idle": "2022-07-08T04:01:00.160984Z",
     "shell.execute_reply": "2022-07-08T04:01:00.159143Z",
     "shell.execute_reply.started": "2022-07-08T04:01:00.089468Z"
    },
    "id": "oSlus6HGem8n"
   },
   "outputs": [],
   "source": [
    "df.drop([\"CODE_GENDER\",\"FLAG_OWN_CAR\",\"FLAG_OWN_REALTY\",\"CNT_CHILDREN\",\"NAME_EDUCATION_TYPE\",\"NAME_FAMILY_STATUS\",\n",
    "         \"NAME_HOUSING_TYPE\",\"REGION_POPULATION_RELATIVE\",\"DAYS_BIRTH\",\"DAYS_EMPLOYED\",\"DAYS_REGISTRATION\",\"DAYS_ID_PUBLISH\",\"OWN_CAR_AGE\",\"FLAG_MOBIL\",\n",
    "         \"FLAG_EMP_PHONE\",\"FLAG_WORK_PHONE\",\"FLAG_CONT_MOBILE\",\"FLAG_PHONE\",\"FLAG_EMAIL\",\"FLAG_EMAIL\",\"CNT_FAM_MEMBERS\",\"REGION_RATING_CLIENT\",\n",
    "         \"REGION_RATING_CLIENT_W_CITY\",\"REG_REGION_NOT_LIVE_REGION\",\"REG_REGION_NOT_WORK_REGION\",\"NAME_TYPE_SUITE\",\n",
    "         \"LIVE_REGION_NOT_WORK_REGION\",\"REG_CITY_NOT_LIVE_CITY\",\"REG_CITY_NOT_WORK_CITY\",\"LIVE_CITY_NOT_WORK_CITY\"],axis=1,inplace=True)"
   ]
  },
  {
   "cell_type": "code",
   "execution_count": null,
   "metadata": {
    "execution": {
     "iopub.execute_input": "2022-07-08T04:01:00.163384Z",
     "iopub.status.busy": "2022-07-08T04:01:00.162872Z",
     "iopub.status.idle": "2022-07-08T04:01:00.21621Z",
     "shell.execute_reply": "2022-07-08T04:01:00.214662Z",
     "shell.execute_reply.started": "2022-07-08T04:01:00.163344Z"
    },
    "id": "Q9XAHlkIna3v"
   },
   "outputs": [],
   "source": [
    "df.drop(['FONDKAPREMONT_MODE', 'HOUSETYPE_MODE',\n",
    "       'WALLSMATERIAL_MODE', 'EMERGENCYSTATE_MODE', 'OBS_30_CNT_SOCIAL_CIRCLE',\n",
    "       'DEF_30_CNT_SOCIAL_CIRCLE', 'OBS_60_CNT_SOCIAL_CIRCLE',\n",
    "       'DEF_60_CNT_SOCIAL_CIRCLE', 'DAYS_LAST_PHONE_CHANGE', 'FLAG_DOCUMENT_2',\n",
    "       'FLAG_DOCUMENT_3', 'FLAG_DOCUMENT_4', 'FLAG_DOCUMENT_5',\n",
    "       'FLAG_DOCUMENT_6', 'FLAG_DOCUMENT_7', 'FLAG_DOCUMENT_8',\n",
    "       'FLAG_DOCUMENT_9', 'FLAG_DOCUMENT_10', 'FLAG_DOCUMENT_11',\n",
    "       'FLAG_DOCUMENT_12', 'FLAG_DOCUMENT_13', 'FLAG_DOCUMENT_14',\n",
    "       'FLAG_DOCUMENT_15', 'FLAG_DOCUMENT_16', 'FLAG_DOCUMENT_17',\n",
    "       'FLAG_DOCUMENT_18', 'FLAG_DOCUMENT_19', 'FLAG_DOCUMENT_20',\n",
    "       'FLAG_DOCUMENT_21', 'AMT_REQ_CREDIT_BUREAU_HOUR','AMT_REQ_CREDIT_BUREAU_DAY', 'AMT_REQ_CREDIT_BUREAU_WEEK',\n",
    "       'AMT_REQ_CREDIT_BUREAU_MON', 'AMT_REQ_CREDIT_BUREAU_QRT',\n",
    "'AMT_REQ_CREDIT_BUREAU_YEAR'],axis=1,inplace=True)"
   ]
  },
  {
   "cell_type": "code",
   "execution_count": null,
   "metadata": {
    "execution": {
     "iopub.execute_input": "2022-07-08T04:01:00.218364Z",
     "iopub.status.busy": "2022-07-08T04:01:00.217956Z",
     "iopub.status.idle": "2022-07-08T04:01:00.251696Z",
     "shell.execute_reply": "2022-07-08T04:01:00.25044Z",
     "shell.execute_reply.started": "2022-07-08T04:01:00.218326Z"
    },
    "id": "HtFFbgWxenKw",
    "outputId": "59e9dd09-5f1c-4d80-8b75-d019ad1a36f5"
   },
   "outputs": [],
   "source": [
    "df.tail()"
   ]
  },
  {
   "cell_type": "code",
   "execution_count": null,
   "metadata": {
    "execution": {
     "iopub.execute_input": "2022-07-08T04:01:00.255828Z",
     "iopub.status.busy": "2022-07-08T04:01:00.255076Z",
     "iopub.status.idle": "2022-07-08T04:01:00.264061Z",
     "shell.execute_reply": "2022-07-08T04:01:00.26325Z",
     "shell.execute_reply.started": "2022-07-08T04:01:00.255763Z"
    },
    "id": "McPYYbxypYAi",
    "outputId": "176b0ebd-39af-499c-e0c8-f109b09089f3"
   },
   "outputs": [],
   "source": [
    "df.columns"
   ]
  },
  {
   "cell_type": "code",
   "execution_count": null,
   "metadata": {
    "execution": {
     "iopub.execute_input": "2022-07-08T04:01:00.265887Z",
     "iopub.status.busy": "2022-07-08T04:01:00.265169Z",
     "iopub.status.idle": "2022-07-08T04:01:00.284617Z",
     "shell.execute_reply": "2022-07-08T04:01:00.283619Z",
     "shell.execute_reply.started": "2022-07-08T04:01:00.265853Z"
    },
    "id": "jSfhKaXhrABI"
   },
   "outputs": [],
   "source": [
    "df.drop(['EXT_SOURCE_1', 'EXT_SOURCE_2', 'EXT_SOURCE_3', 'APARTMENTS_AVG',\n",
    "       'BASEMENTAREA_AVG', 'YEARS_BEGINEXPLUATATION_AVG', 'YEARS_BUILD_AVG',\n",
    "       'COMMONAREA_AVG', 'ELEVATORS_AVG', 'ENTRANCES_AVG', 'FLOORSMAX_AVG',\n",
    "       'FLOORSMIN_AVG', 'LANDAREA_AVG', 'LIVINGAPARTMENTS_AVG','NAME_CONTRACT_TYPE',\n",
    "       'LIVINGAREA_AVG', 'NONLIVINGAPARTMENTS_AVG', 'NONLIVINGAREA_AVG',\n",
    "       'APARTMENTS_MODE', 'BASEMENTAREA_MODE', 'YEARS_BEGINEXPLUATATION_MODE',\n",
    "       'YEARS_BUILD_MODE', 'COMMONAREA_MODE', 'ELEVATORS_MODE','WEEKDAY_APPR_PROCESS_START',\n",
    "       'ENTRANCES_MODE', 'FLOORSMAX_MODE', 'FLOORSMIN_MODE', 'LANDAREA_MODE',\n",
    "       'LIVINGAPARTMENTS_MODE', 'LIVINGAREA_MODE', 'NONLIVINGAPARTMENTS_MODE',\n",
    "       'NONLIVINGAREA_MODE', 'APARTMENTS_MEDI', 'BASEMENTAREA_MEDI','OCCUPATION_TYPE',\n",
    "       'YEARS_BEGINEXPLUATATION_MEDI', 'YEARS_BUILD_MEDI', 'COMMONAREA_MEDI',\n",
    "       'ELEVATORS_MEDI', 'ENTRANCES_MEDI', 'FLOORSMAX_MEDI', 'FLOORSMIN_MEDI',\n",
    "       'LANDAREA_MEDI', 'LIVINGAPARTMENTS_MEDI', 'LIVINGAREA_MEDI',\n",
    "       'NONLIVINGAPARTMENTS_MEDI', 'NONLIVINGAREA_MEDI', 'TOTALAREA_MODE'],axis=1,inplace=True)"
   ]
  },
  {
   "cell_type": "code",
   "execution_count": null,
   "metadata": {
    "execution": {
     "iopub.execute_input": "2022-07-08T04:01:00.287063Z",
     "iopub.status.busy": "2022-07-08T04:01:00.286313Z",
     "iopub.status.idle": "2022-07-08T04:01:00.294468Z",
     "shell.execute_reply": "2022-07-08T04:01:00.293481Z",
     "shell.execute_reply.started": "2022-07-08T04:01:00.287025Z"
    },
    "id": "WtKXUEePr79A",
    "outputId": "3e3525ff-26fe-4168-d839-86a4037d71b8"
   },
   "outputs": [],
   "source": [
    "df.columns"
   ]
  },
  {
   "cell_type": "code",
   "execution_count": null,
   "metadata": {
    "execution": {
     "iopub.execute_input": "2022-07-08T04:01:00.295683Z",
     "iopub.status.busy": "2022-07-08T04:01:00.295407Z",
     "iopub.status.idle": "2022-07-08T04:01:00.306474Z",
     "shell.execute_reply": "2022-07-08T04:01:00.305325Z",
     "shell.execute_reply.started": "2022-07-08T04:01:00.295654Z"
    },
    "id": "XxbKo3CRr-LN",
    "outputId": "5b8a6240-62ad-4564-bcd2-22532ea44f30"
   },
   "outputs": [],
   "source": [
    "df.shape"
   ]
  },
  {
   "cell_type": "code",
   "execution_count": null,
   "metadata": {
    "execution": {
     "iopub.execute_input": "2022-07-08T04:01:00.309092Z",
     "iopub.status.busy": "2022-07-08T04:01:00.30855Z",
     "iopub.status.idle": "2022-07-08T04:01:00.399729Z",
     "shell.execute_reply": "2022-07-08T04:01:00.398658Z",
     "shell.execute_reply.started": "2022-07-08T04:01:00.309052Z"
    },
    "id": "CoUrEr78IdfW",
    "outputId": "2ff5fbd7-168d-43f2-96ae-8bd967f778db"
   },
   "outputs": [],
   "source": [
    "df.info()"
   ]
  },
  {
   "cell_type": "code",
   "execution_count": null,
   "metadata": {
    "execution": {
     "iopub.execute_input": "2022-07-08T04:01:00.40158Z",
     "iopub.status.busy": "2022-07-08T04:01:00.401341Z",
     "iopub.status.idle": "2022-07-08T04:01:00.509759Z",
     "shell.execute_reply": "2022-07-08T04:01:00.508462Z",
     "shell.execute_reply.started": "2022-07-08T04:01:00.401558Z"
    }
   },
   "outputs": [],
   "source": [
    "df.describe()"
   ]
  },
  {
   "cell_type": "markdown",
   "metadata": {},
   "source": [
    "**Missing Numbes**"
   ]
  },
  {
   "cell_type": "code",
   "execution_count": null,
   "metadata": {
    "execution": {
     "iopub.execute_input": "2022-07-08T04:01:00.511447Z",
     "iopub.status.busy": "2022-07-08T04:01:00.51108Z",
     "iopub.status.idle": "2022-07-08T04:01:00.518895Z",
     "shell.execute_reply": "2022-07-08T04:01:00.517502Z",
     "shell.execute_reply.started": "2022-07-08T04:01:00.511418Z"
    }
   },
   "outputs": [],
   "source": [
    "def missing (df1):\n",
    "    missing_number = df1.isnull().sum().sort_values(ascending=False)\n",
    "    missing_percent = ((df1.isnull().sum()/df1.isnull().count())*100).sort_values(ascending=False)\n",
    "    missing_values = pd.concat([missing_number, missing_percent], axis=1, keys=['Missing_Number', 'Missing_Percent'])\n",
    "    return missing_values"
   ]
  },
  {
   "cell_type": "markdown",
   "metadata": {},
   "source": [
    "**Fill Null values with Mean, median and Mode**"
   ]
  },
  {
   "cell_type": "code",
   "execution_count": null,
   "metadata": {
    "execution": {
     "iopub.execute_input": "2022-07-08T04:01:00.520518Z",
     "iopub.status.busy": "2022-07-08T04:01:00.520072Z",
     "iopub.status.idle": "2022-07-08T04:01:00.557162Z",
     "shell.execute_reply": "2022-07-08T04:01:00.556223Z",
     "shell.execute_reply.started": "2022-07-08T04:01:00.520493Z"
    },
    "id": "wCXiYutGskFD",
    "outputId": "9235ce4a-cc66-4654-f3cb-1de25f10ce0d"
   },
   "outputs": [],
   "source": [
    "df.isnull().sum()"
   ]
  },
  {
   "cell_type": "code",
   "execution_count": null,
   "metadata": {
    "execution": {
     "iopub.execute_input": "2022-07-08T04:01:00.559229Z",
     "iopub.status.busy": "2022-07-08T04:01:00.558833Z",
     "iopub.status.idle": "2022-07-08T04:01:00.771617Z",
     "shell.execute_reply": "2022-07-08T04:01:00.770567Z",
     "shell.execute_reply.started": "2022-07-08T04:01:00.5592Z"
    }
   },
   "outputs": [],
   "source": [
    "#fill null values with mean,median ,mode\n",
    "for i in df.columns:\n",
    "    if df[i].dtypes == 'object':\n",
    "        df[i].fillna(df[i].mode()[0], inplace=True)\n",
    "    else:\n",
    "        df[i].fillna(df[i].median(), inplace=True)\n",
    "print(df)"
   ]
  },
  {
   "cell_type": "code",
   "execution_count": null,
   "metadata": {
    "execution": {
     "iopub.execute_input": "2022-07-08T04:01:00.774939Z",
     "iopub.status.busy": "2022-07-08T04:01:00.774298Z",
     "iopub.status.idle": "2022-07-08T04:01:00.850786Z",
     "shell.execute_reply": "2022-07-08T04:01:00.84971Z",
     "shell.execute_reply.started": "2022-07-08T04:01:00.774898Z"
    },
    "id": "FDw_vuI-3Y8p",
    "outputId": "ea04c75e-247d-4420-85bf-f716999e04cb"
   },
   "outputs": [],
   "source": [
    "df.isnull().sum()"
   ]
  },
  {
   "cell_type": "code",
   "execution_count": null,
   "metadata": {
    "execution": {
     "iopub.execute_input": "2022-07-08T04:01:00.85246Z",
     "iopub.status.busy": "2022-07-08T04:01:00.852122Z",
     "iopub.status.idle": "2022-07-08T04:01:00.870809Z",
     "shell.execute_reply": "2022-07-08T04:01:00.869686Z",
     "shell.execute_reply.started": "2022-07-08T04:01:00.852431Z"
    },
    "id": "2wW9dzmES9zf",
    "outputId": "6a785756-e1a7-4d91-9eb0-aa38ddc1cc71"
   },
   "outputs": [],
   "source": [
    "df.head()"
   ]
  },
  {
   "cell_type": "markdown",
   "metadata": {},
   "source": [
    "**Split the Numeric and Catagorical Data**"
   ]
  },
  {
   "cell_type": "code",
   "execution_count": null,
   "metadata": {
    "execution": {
     "iopub.execute_input": "2022-07-08T04:01:00.872823Z",
     "iopub.status.busy": "2022-07-08T04:01:00.872528Z",
     "iopub.status.idle": "2022-07-08T04:01:00.910442Z",
     "shell.execute_reply": "2022-07-08T04:01:00.909618Z",
     "shell.execute_reply.started": "2022-07-08T04:01:00.872789Z"
    }
   },
   "outputs": [],
   "source": [
    "# finding numerical data and categorical data in dataset\n",
    "numerical= df.drop(['TARGET'], axis=1).select_dtypes('number').columns\n",
    "\n",
    "categorical = df.select_dtypes('object').columns\n",
    "\n",
    "print(f'Numerical Columns:  {df[numerical].columns}')\n",
    "print('\\n')\n",
    "print(f'Categorical Columns: {df[categorical].columns}')"
   ]
  },
  {
   "cell_type": "markdown",
   "metadata": {},
   "source": [
    "**Count Plot**"
   ]
  },
  {
   "cell_type": "code",
   "execution_count": null,
   "metadata": {
    "execution": {
     "iopub.execute_input": "2022-07-08T04:01:00.911654Z",
     "iopub.status.busy": "2022-07-08T04:01:00.911364Z",
     "iopub.status.idle": "2022-07-08T04:01:01.105765Z",
     "shell.execute_reply": "2022-07-08T04:01:01.104372Z",
     "shell.execute_reply.started": "2022-07-08T04:01:00.911621Z"
    }
   },
   "outputs": [],
   "source": [
    "sns.countplot(df.dtypes.map(str))\n",
    "plt.show()"
   ]
  },
  {
   "cell_type": "markdown",
   "metadata": {},
   "source": [
    "**Apply the Label Encoding**"
   ]
  },
  {
   "cell_type": "markdown",
   "metadata": {},
   "source": [
    "Label encoding is the process of transforming labels into a numeric form so that they may be read by machines. The operation of those labels can then be better determined by machine learning techniques. It is a significant supervised learning pre-processing step for the structured dataset."
   ]
  },
  {
   "cell_type": "code",
   "execution_count": null,
   "metadata": {
    "execution": {
     "iopub.execute_input": "2022-07-08T04:01:01.107538Z",
     "iopub.status.busy": "2022-07-08T04:01:01.107281Z",
     "iopub.status.idle": "2022-07-08T04:01:01.249696Z",
     "shell.execute_reply": "2022-07-08T04:01:01.248269Z",
     "shell.execute_reply.started": "2022-07-08T04:01:01.107506Z"
    },
    "id": "zpna9Ox-SmXg",
    "outputId": "4fa94dd8-1fd7-47a0-bb01-15e59eb7101d"
   },
   "outputs": [],
   "source": [
    "# Import label encoder\n",
    "from sklearn import preprocessing\n",
    "\n",
    "# label_encoder object knows how to understand word labels.\n",
    "label_encoder = preprocessing.LabelEncoder()\n",
    "\n",
    "# Encode labels in column 'species'.\n",
    "df['NAME_INCOME_TYPE']= label_encoder.fit_transform(df['NAME_INCOME_TYPE'])\n",
    "\n",
    "df['NAME_INCOME_TYPE']"
   ]
  },
  {
   "cell_type": "code",
   "execution_count": null,
   "metadata": {
    "execution": {
     "iopub.execute_input": "2022-07-08T04:01:01.253496Z",
     "iopub.status.busy": "2022-07-08T04:01:01.253097Z",
     "iopub.status.idle": "2022-07-08T04:01:01.345357Z",
     "shell.execute_reply": "2022-07-08T04:01:01.343902Z",
     "shell.execute_reply.started": "2022-07-08T04:01:01.253456Z"
    },
    "id": "3SvbRpalT1PA",
    "outputId": "ecd1e6fc-dae2-4040-ad29-bbf09ca4b7f0"
   },
   "outputs": [],
   "source": [
    "# Import label encoder\n",
    "from sklearn import preprocessing\n",
    "\n",
    "# label_encoder object knows how to understand word labels.\n",
    "label_encoder = preprocessing.LabelEncoder()\n",
    "\n",
    "# Encode labels in column 'species'.\n",
    "df['ORGANIZATION_TYPE']= label_encoder.fit_transform(df['ORGANIZATION_TYPE'])\n",
    "\n",
    "df['ORGANIZATION_TYPE']"
   ]
  },
  {
   "cell_type": "markdown",
   "metadata": {},
   "source": [
    "**Find out Statistical values**"
   ]
  },
  {
   "cell_type": "code",
   "execution_count": null,
   "metadata": {
    "execution": {
     "iopub.execute_input": "2022-07-08T04:01:01.347526Z",
     "iopub.status.busy": "2022-07-08T04:01:01.347046Z",
     "iopub.status.idle": "2022-07-08T04:01:01.577862Z",
     "shell.execute_reply": "2022-07-08T04:01:01.577054Z",
     "shell.execute_reply.started": "2022-07-08T04:01:01.347497Z"
    }
   },
   "outputs": [],
   "source": [
    "for col in df.columns:\n",
    "    if df[col].dtypes != object:\n",
    "        q1 = df[col].quantile(0.25)\n",
    "        q3 = df[col].quantile(0.75)\n",
    "        IQR = q3 - q1\n",
    "        llp = q1-1.5*IQR\n",
    "        ulp = q3+1.5*IQR\n",
    "        print('column name',col)\n",
    "        print('mean:',df[col].mean())\n",
    "        print('mode:',df[col].mode()[0])\n",
    "        print('median:',df[col].median())\n",
    "        print('skewness:',df[col].skew())\n",
    "        print('kurtosis:',df[col].kurtosis())\n",
    "        print('null_value count:',df[col].isnull().sum())\n",
    "        print('\\n')"
   ]
  },
  {
   "cell_type": "markdown",
   "metadata": {},
   "source": [
    "**Outliers**"
   ]
  },
  {
   "cell_type": "markdown",
   "metadata": {},
   "source": [
    "A data point that is an outlier in a data graph or dataset you are dealing with is one that is extraordinarily high or extraordinarily low in comparison to the nearest data point and the rest of the nearby coexisting values. Outliers in a dataset or graph are extreme values that stand out significantly from the main pattern of values."
   ]
  },
  {
   "cell_type": "code",
   "execution_count": null,
   "metadata": {
    "execution": {
     "iopub.execute_input": "2022-07-08T04:01:01.57953Z",
     "iopub.status.busy": "2022-07-08T04:01:01.579029Z",
     "iopub.status.idle": "2022-07-08T04:01:02.732744Z",
     "shell.execute_reply": "2022-07-08T04:01:02.731324Z",
     "shell.execute_reply.started": "2022-07-08T04:01:01.579502Z"
    }
   },
   "outputs": [],
   "source": [
    "#checking outliers\n",
    "#Outlier Search: This helps you to get some insights about the outliers in the data.\n",
    "df.plot(kind='box', layout=(3,3),subplots=1,figsize=(25,11))\n",
    "plt.show()"
   ]
  },
  {
   "cell_type": "code",
   "execution_count": null,
   "metadata": {
    "execution": {
     "iopub.execute_input": "2022-07-08T04:01:02.734678Z",
     "iopub.status.busy": "2022-07-08T04:01:02.734303Z",
     "iopub.status.idle": "2022-07-08T04:01:02.745726Z",
     "shell.execute_reply": "2022-07-08T04:01:02.744221Z",
     "shell.execute_reply.started": "2022-07-08T04:01:02.734648Z"
    }
   },
   "outputs": [],
   "source": [
    "def out_to_null(data=df):\n",
    "    for x in df.columns:\n",
    "        if df[x].dtypes ==np.float64:\n",
    "            #In the given column the outliers will convert into null values\n",
    "            print('\\n\\n Column name:', x)\n",
    "            q1=data[x].quantile(0.25)\n",
    "            print('Quatile, Q1: ',q1)\n",
    "            q3=data[x].quantile(0.75)\n",
    "            print('Quatile, Q3: ',q3)\n",
    "            iqr=q3-q1\n",
    "            print('Inter Quatile Range, IQR: ',iqr)\n",
    "            ulp=q3+(1.5*iqr)\n",
    "            print('Upper Limit Point, ULP: ',ulp)\n",
    "            llp=q1-(1.5*iqr)\n",
    "            print('Lower Limit Point, LLP: ',llp)\n",
    "            #here the values which are above upperlimit and below lowerlimt are replaced with null values          \n",
    "            data[x]=np.where(data[x] > ulp,np.nan,\n",
    "                                   np.where(data[x] < llp,np.nan ,data[x]))\n",
    "            print('\\n\\nin the given column the outliers are replaced with null values\\n')"
   ]
  },
  {
   "cell_type": "markdown",
   "metadata": {},
   "source": [
    "**PairPlot**"
   ]
  },
  {
   "cell_type": "code",
   "execution_count": null,
   "metadata": {
    "execution": {
     "iopub.execute_input": "2022-07-08T04:01:02.754832Z",
     "iopub.status.busy": "2022-07-08T04:01:02.753858Z",
     "iopub.status.idle": "2022-07-08T04:01:27.839292Z",
     "shell.execute_reply": "2022-07-08T04:01:27.837375Z",
     "shell.execute_reply.started": "2022-07-08T04:01:02.754798Z"
    }
   },
   "outputs": [],
   "source": [
    "count=1\n",
    "plt.subplots(figsize=(30,25))\n",
    "for i in df.columns:\n",
    "    if df[i].dtypes!='object':\n",
    "        plt.subplot(6,7,count)\n",
    "        sns.distplot(df[i])\n",
    "        count+=1\n",
    "\n",
    "plt.show()"
   ]
  },
  {
   "cell_type": "markdown",
   "metadata": {},
   "source": [
    "**Correlation**"
   ]
  },
  {
   "cell_type": "markdown",
   "metadata": {},
   "source": [
    "Correlation is the relationship between target variable and feature variables."
   ]
  },
  {
   "cell_type": "code",
   "execution_count": null,
   "metadata": {
    "execution": {
     "iopub.execute_input": "2022-07-08T04:01:27.842071Z",
     "iopub.status.busy": "2022-07-08T04:01:27.841625Z",
     "iopub.status.idle": "2022-07-08T04:01:27.933046Z",
     "shell.execute_reply": "2022-07-08T04:01:27.931861Z",
     "shell.execute_reply.started": "2022-07-08T04:01:27.842029Z"
    }
   },
   "outputs": [],
   "source": [
    "cor = df.corr()\n",
    "cor"
   ]
  },
  {
   "cell_type": "markdown",
   "metadata": {},
   "source": [
    "**HeatMap**"
   ]
  },
  {
   "cell_type": "code",
   "execution_count": null,
   "metadata": {
    "execution": {
     "iopub.execute_input": "2022-07-08T04:01:27.93499Z",
     "iopub.status.busy": "2022-07-08T04:01:27.934665Z",
     "iopub.status.idle": "2022-07-08T04:01:28.546113Z",
     "shell.execute_reply": "2022-07-08T04:01:28.545362Z",
     "shell.execute_reply.started": "2022-07-08T04:01:27.93496Z"
    }
   },
   "outputs": [],
   "source": [
    "ax = sns.heatmap(df.corr(), annot=True)\n",
    "plt.show()"
   ]
  },
  {
   "cell_type": "code",
   "execution_count": null,
   "metadata": {
    "execution": {
     "iopub.execute_input": "2022-07-08T04:01:28.548033Z",
     "iopub.status.busy": "2022-07-08T04:01:28.547543Z",
     "iopub.status.idle": "2022-07-08T04:01:28.570503Z",
     "shell.execute_reply": "2022-07-08T04:01:28.569371Z",
     "shell.execute_reply.started": "2022-07-08T04:01:28.548003Z"
    },
    "id": "JzU5A_8sPPKW",
    "outputId": "76cf637a-556d-482b-b633-e3121ac471db"
   },
   "outputs": [],
   "source": [
    "df"
   ]
  },
  {
   "cell_type": "markdown",
   "metadata": {},
   "source": [
    "**Feature Selection**"
   ]
  },
  {
   "cell_type": "markdown",
   "metadata": {},
   "source": [
    "Feature selection is the process of reducing the number of input variables when developing a predictive model. It is desirable to reduce the number of input variables to both reduce the computational cost of modeling and, in some cases, to improve the performance of the model."
   ]
  },
  {
   "cell_type": "code",
   "execution_count": null,
   "metadata": {
    "execution": {
     "iopub.execute_input": "2022-07-08T04:01:28.572431Z",
     "iopub.status.busy": "2022-07-08T04:01:28.572075Z",
     "iopub.status.idle": "2022-07-08T04:01:28.588008Z",
     "shell.execute_reply": "2022-07-08T04:01:28.587359Z",
     "shell.execute_reply.started": "2022-07-08T04:01:28.572401Z"
    },
    "id": "6-fpciDfQBV_"
   },
   "outputs": [],
   "source": [
    "X = df.drop(\"TARGET\",axis=1)\n",
    "y = df.TARGET"
   ]
  },
  {
   "cell_type": "code",
   "execution_count": null,
   "metadata": {
    "execution": {
     "iopub.execute_input": "2022-07-08T04:01:28.589602Z",
     "iopub.status.busy": "2022-07-08T04:01:28.589121Z",
     "iopub.status.idle": "2022-07-08T04:01:28.594153Z",
     "shell.execute_reply": "2022-07-08T04:01:28.593258Z",
     "shell.execute_reply.started": "2022-07-08T04:01:28.589577Z"
    },
    "id": "dqQt88FXQWpT",
    "outputId": "70e07522-f973-47fd-c565-5164a8f3d369"
   },
   "outputs": [],
   "source": [
    "X.shape"
   ]
  },
  {
   "cell_type": "markdown",
   "metadata": {},
   "source": [
    "**Train, Test and Split**"
   ]
  },
  {
   "cell_type": "code",
   "execution_count": null,
   "metadata": {
    "execution": {
     "iopub.execute_input": "2022-07-08T04:01:28.595546Z",
     "iopub.status.busy": "2022-07-08T04:01:28.595178Z",
     "iopub.status.idle": "2022-07-08T04:01:28.660431Z",
     "shell.execute_reply": "2022-07-08T04:01:28.659392Z",
     "shell.execute_reply.started": "2022-07-08T04:01:28.595525Z"
    },
    "id": "Vu8UrwyUQfUh",
    "outputId": "69d613bf-5c12-4943-e1b6-dc1f18cd5b5d"
   },
   "outputs": [],
   "source": [
    "from sklearn.model_selection import train_test_split \n",
    "X_train,X_test,y_train,y_test=train_test_split(X,y,test_size=0.3,random_state=1)\n",
    "\n",
    "X_train.shape,X_test.shape"
   ]
  },
  {
   "cell_type": "code",
   "execution_count": null,
   "metadata": {
    "execution": {
     "iopub.execute_input": "2022-07-08T04:01:28.663965Z",
     "iopub.status.busy": "2022-07-08T04:01:28.662796Z",
     "iopub.status.idle": "2022-07-08T04:01:28.684378Z",
     "shell.execute_reply": "2022-07-08T04:01:28.683769Z",
     "shell.execute_reply.started": "2022-07-08T04:01:28.663919Z"
    }
   },
   "outputs": [],
   "source": [
    "X_train"
   ]
  },
  {
   "cell_type": "code",
   "execution_count": null,
   "metadata": {
    "execution": {
     "iopub.execute_input": "2022-07-08T04:01:28.68572Z",
     "iopub.status.busy": "2022-07-08T04:01:28.685166Z",
     "iopub.status.idle": "2022-07-08T04:01:28.702102Z",
     "shell.execute_reply": "2022-07-08T04:01:28.701526Z",
     "shell.execute_reply.started": "2022-07-08T04:01:28.685679Z"
    }
   },
   "outputs": [],
   "source": [
    "X_test"
   ]
  },
  {
   "cell_type": "markdown",
   "metadata": {},
   "source": [
    "**Random forest Classifier**"
   ]
  },
  {
   "cell_type": "markdown",
   "metadata": {},
   "source": [
    "Random forest is a type of Supervised Machine Learning Algorithm that is commonly used in classification and regression problems. It constructs decision trees from various samples and uses their majority vote for classification and average for regression."
   ]
  },
  {
   "cell_type": "code",
   "execution_count": null,
   "metadata": {
    "execution": {
     "iopub.execute_input": "2022-07-08T04:01:28.7039Z",
     "iopub.status.busy": "2022-07-08T04:01:28.703265Z",
     "iopub.status.idle": "2022-07-08T04:01:34.435548Z",
     "shell.execute_reply": "2022-07-08T04:01:34.434487Z",
     "shell.execute_reply.started": "2022-07-08T04:01:28.703876Z"
    }
   },
   "outputs": [],
   "source": [
    "# Applying random forest Classifier\n",
    "from sklearn.ensemble import RandomForestClassifier\n",
    "rf_Classifier = RandomForestClassifier(n_estimators = 10, random_state = 0)\n",
    "rf_Classifier.fit(X_train, y_train)"
   ]
  },
  {
   "cell_type": "code",
   "execution_count": null,
   "metadata": {
    "execution": {
     "iopub.execute_input": "2022-07-08T04:01:34.437164Z",
     "iopub.status.busy": "2022-07-08T04:01:34.436838Z",
     "iopub.status.idle": "2022-07-08T04:01:34.773161Z",
     "shell.execute_reply": "2022-07-08T04:01:34.771713Z",
     "shell.execute_reply.started": "2022-07-08T04:01:34.437135Z"
    }
   },
   "outputs": [],
   "source": [
    "y_pred = rf_Classifier.predict(X_test)\n",
    "y_pred"
   ]
  },
  {
   "cell_type": "code",
   "execution_count": null,
   "metadata": {
    "execution": {
     "iopub.execute_input": "2022-07-08T04:01:34.7754Z",
     "iopub.status.busy": "2022-07-08T04:01:34.774995Z",
     "iopub.status.idle": "2022-07-08T04:01:34.803777Z",
     "shell.execute_reply": "2022-07-08T04:01:34.802415Z",
     "shell.execute_reply.started": "2022-07-08T04:01:34.775369Z"
    }
   },
   "outputs": [],
   "source": [
    "from sklearn.metrics import  confusion_matrix,accuracy_score\n",
    "cm=confusion_matrix(y_test,y_pred)\n",
    "print(cm)\n",
    "accuracy_score(y_test,y_pred)"
   ]
  },
  {
   "cell_type": "code",
   "execution_count": null,
   "metadata": {
    "execution": {
     "iopub.execute_input": "2022-07-08T04:01:34.80576Z",
     "iopub.status.busy": "2022-07-08T04:01:34.805372Z",
     "iopub.status.idle": "2022-07-08T04:01:34.907219Z",
     "shell.execute_reply": "2022-07-08T04:01:34.905995Z",
     "shell.execute_reply.started": "2022-07-08T04:01:34.80572Z"
    }
   },
   "outputs": [],
   "source": [
    "# Classification Report\n",
    "from sklearn.metrics import classification_report\n",
    "print(classification_report(y_test, y_pred))"
   ]
  },
  {
   "cell_type": "code",
   "execution_count": null,
   "metadata": {
    "execution": {
     "iopub.execute_input": "2022-07-08T04:01:34.909365Z",
     "iopub.status.busy": "2022-07-08T04:01:34.909068Z",
     "iopub.status.idle": "2022-07-08T04:01:34.930556Z",
     "shell.execute_reply": "2022-07-08T04:01:34.929753Z",
     "shell.execute_reply.started": "2022-07-08T04:01:34.909337Z"
    }
   },
   "outputs": [],
   "source": [
    "X_test"
   ]
  },
  {
   "cell_type": "code",
   "execution_count": null,
   "metadata": {
    "execution": {
     "iopub.execute_input": "2022-07-08T04:01:34.93223Z",
     "iopub.status.busy": "2022-07-08T04:01:34.931838Z",
     "iopub.status.idle": "2022-07-08T04:01:34.947541Z",
     "shell.execute_reply": "2022-07-08T04:01:34.946132Z",
     "shell.execute_reply.started": "2022-07-08T04:01:34.93216Z"
    }
   },
   "outputs": [],
   "source": [
    "result = rf_Classifier.predict(np.array([[454938,192500.0,157914.0,15753.5,139500.0,3,15,33]]))\n",
    "result\n"
   ]
  },
  {
   "cell_type": "code",
   "execution_count": null,
   "metadata": {},
   "outputs": [],
   "source": []
  }
 ],
 "metadata": {
  "kernelspec": {
   "display_name": "Python 3 (ipykernel)",
   "language": "python",
   "name": "python3"
  },
  "language_info": {
   "codemirror_mode": {
    "name": "ipython",
    "version": 3
   },
   "file_extension": ".py",
   "mimetype": "text/x-python",
   "name": "python",
   "nbconvert_exporter": "python",
   "pygments_lexer": "ipython3",
   "version": "3.9.12"
  }
 },
 "nbformat": 4,
 "nbformat_minor": 4
}
